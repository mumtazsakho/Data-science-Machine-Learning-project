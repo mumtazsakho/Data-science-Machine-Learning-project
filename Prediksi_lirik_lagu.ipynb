{
  "nbformat": 4,
  "nbformat_minor": 0,
  "metadata": {
    "colab": {
      "name": "Prediksi_lirik_lagu.ipynb",
      "provenance": [],
      "authorship_tag": "ABX9TyO0tcvpIfX+cq4+AFb/rZ0b",
      "include_colab_link": true
    },
    "kernelspec": {
      "name": "python3",
      "display_name": "Python 3"
    },
    "language_info": {
      "name": "python"
    }
  },
  "cells": [
    {
      "cell_type": "markdown",
      "metadata": {
        "id": "view-in-github",
        "colab_type": "text"
      },
      "source": [
        "<a href=\"https://colab.research.google.com/github/mumtazsakho/mumtazsakho/blob/main/Prediksi_lirik_lagu.ipynb\" target=\"_parent\"><img src=\"https://colab.research.google.com/assets/colab-badge.svg\" alt=\"Open In Colab\"/></a>"
      ]
    },
    {
      "cell_type": "code",
      "execution_count": 1,
      "metadata": {
        "id": "5p2eAdwGP9t3"
      },
      "outputs": [],
      "source": [
        "import pandas as pd\n",
        "import numpy as np\n",
        "import tensorflow as tf"
      ]
    },
    {
      "cell_type": "code",
      "source": [
        "balonku = [\"Balonku ada lima\",\n",
        "            \"Rupa-rupa warnanya\",\n",
        "            \"Hijau, kuning, kelabu\",\n",
        "            \"Merah muda dan biru\",\n",
        "            \"Meletus balon hijau, dor!\",\n",
        "            \"Hatiku sangat kacau\",\n",
        "            \"Balonku tinggal empat\",\n",
        "            \"Kupegang erat-erat\",\n",
        "            \"Balonku ada lima\",\n",
        "            \"Rupa-rupa warnanya\",\n",
        "            \"Hijau, kuning, kelabu\",\n",
        "            \"Merah muda dan biru\",\n",
        "            \"Meletus balon hijau, dor!\",\n",
        "            \"Hatiku sangat kacau\",\n",
        "            \"Balonku tinggal empat\",\n",
        "            \"Kupegang erat-erat\"]\n",
        "\n",
        "pelangi = [\"Pelangi, pelangi, alangkah indahmu\",\n",
        "          \"Merah, kuning, hijau di langit yang biru\",\n",
        "          \"Pelukismu agung, siapa gerangan?\",\n",
        "          \"Pelangi, pelangi, ciptaan Tuhan\",\n",
        "          \"Pelangi, pelangi, alangkah indahmu\",\n",
        "          \"Merah, kuning, hijau di langit yang biru\",\n",
        "          \"Pelukismu agung, siapa gerangan?\",\n",
        "          \"Pelangi, pelangi, ciptaan Tuhan\",\n",
        "          \"Pelangi, pelangi, alangkah indahmu\",\n",
        "          \"Merah, kuning, hijau di langit yang biru\",\n",
        "          \"Pelukismu agung, siapa gerangan?\",\n",
        "          \"Pelangi, pelangi, ciptaan Tuhan\"]\n",
        "\n",
        "soleram = [\"Soleram soleram soleram anak yang manis\",\n",
        "          \"Anak manis janganlah dicium sayang\",\n",
        "          \"Kalau dicium merahlah pipinya\",\n",
        "          \"Anak manis janganlah dicium sayang\",\n",
        "          \"Kalau dicium merahlah pipinya\",\n",
        "          \"Satu dua tiga dan empat\",\n",
        "          \"Lima enam dalam jabangan\",\n",
        "          \"Kalau tuan dapat kawan baru sayang\",\n",
        "          \"Kawan lama dilupakan jangan\",\n",
        "          \"Kalau tuan dapat kawan baru sayang\",\n",
        "          \"Kawan lama dilupakan jangan\",\n",
        "          \"Soleram soleram soleram anak yang manis\",\n",
        "          \"Anak manis janganlah dicium sayang\",\n",
        "          \"Kalau dicium merahlah pipinya\",\n",
        "          \"Anak manis janganlah dicium sayang\",\n",
        "          \"Kalau dicium merahlah pipinya\",\n",
        "          \"Jalan-jalan ke pasar baru\",\n",
        "          \"Jangan lupa belilah roti\",\n",
        "          \"Ini lagu jaman tempo dulu kawan\",\n",
        "          \"Mungkin sekarang dikenang kembali\",\n",
        "          \"Ini lagu jaman tempo dulu kawan\",\n",
        "          \"Mungkin sekarang dikenang kembali\",\n",
        "          \"Soleram soleram soleram anak yang manis\",\n",
        "          \"Anak manis janganlah dicium sayang\",\n",
        "          \"Kalau dicium merahlah pipinya\",\n",
        "          \"Anak manis janganlah dicium sayang\",\n",
        "          \"Kalau dicium merahlah pipinya\"]\n",
        "lagu = balonku+pelangi+soleram\n",
        "lagu"
      ],
      "metadata": {
        "colab": {
          "base_uri": "https://localhost:8080/"
        },
        "id": "YvOkJ3kdQDHG",
        "outputId": "3c7e61bb-4e46-46dc-a9b2-9cc781e97884"
      },
      "execution_count": 64,
      "outputs": [
        {
          "output_type": "execute_result",
          "data": {
            "text/plain": [
              "['Balonku ada lima',\n",
              " 'Rupa-rupa warnanya',\n",
              " 'Hijau, kuning, kelabu',\n",
              " 'Merah muda dan biru',\n",
              " 'Meletus balon hijau, dor!',\n",
              " 'Hatiku sangat kacau',\n",
              " 'Balonku tinggal empat',\n",
              " 'Kupegang erat-erat',\n",
              " 'Balonku ada lima',\n",
              " 'Rupa-rupa warnanya',\n",
              " 'Hijau, kuning, kelabu',\n",
              " 'Merah muda dan biru',\n",
              " 'Meletus balon hijau, dor!',\n",
              " 'Hatiku sangat kacau',\n",
              " 'Balonku tinggal empat',\n",
              " 'Kupegang erat-erat',\n",
              " 'Pelangi, pelangi, alangkah indahmu',\n",
              " 'Merah, kuning, hijau di langit yang biru',\n",
              " 'Pelukismu agung, siapa gerangan?',\n",
              " 'Pelangi, pelangi, ciptaan Tuhan',\n",
              " 'Pelangi, pelangi, alangkah indahmu',\n",
              " 'Merah, kuning, hijau di langit yang biru',\n",
              " 'Pelukismu agung, siapa gerangan?',\n",
              " 'Pelangi, pelangi, ciptaan Tuhan',\n",
              " 'Pelangi, pelangi, alangkah indahmu',\n",
              " 'Merah, kuning, hijau di langit yang biru',\n",
              " 'Pelukismu agung, siapa gerangan?',\n",
              " 'Pelangi, pelangi, ciptaan Tuhan',\n",
              " 'Soleram soleram soleram anak yang manis',\n",
              " 'Anak manis janganlah dicium sayang',\n",
              " 'Kalau dicium merahlah pipinya',\n",
              " 'Anak manis janganlah dicium sayang',\n",
              " 'Kalau dicium merahlah pipinya',\n",
              " 'Satu dua tiga dan empat',\n",
              " 'Lima enam dalam jabangan',\n",
              " 'Kalau tuan dapat kawan baru sayang',\n",
              " 'Kawan lama dilupakan jangan',\n",
              " 'Kalau tuan dapat kawan baru sayang',\n",
              " 'Kawan lama dilupakan jangan',\n",
              " 'Soleram soleram soleram anak yang manis',\n",
              " 'Anak manis janganlah dicium sayang',\n",
              " 'Kalau dicium merahlah pipinya',\n",
              " 'Anak manis janganlah dicium sayang',\n",
              " 'Kalau dicium merahlah pipinya',\n",
              " 'Jalan-jalan ke pasar baru',\n",
              " 'Jangan lupa belilah roti',\n",
              " 'Ini lagu jaman tempo dulu kawan',\n",
              " 'Mungkin sekarang dikenang kembali',\n",
              " 'Ini lagu jaman tempo dulu kawan',\n",
              " 'Mungkin sekarang dikenang kembali',\n",
              " 'Soleram soleram soleram anak yang manis',\n",
              " 'Anak manis janganlah dicium sayang',\n",
              " 'Kalau dicium merahlah pipinya',\n",
              " 'Anak manis janganlah dicium sayang',\n",
              " 'Kalau dicium merahlah pipinya']"
            ]
          },
          "metadata": {},
          "execution_count": 64
        }
      ]
    },
    {
      "cell_type": "code",
      "source": [
        "token = tf.keras.preprocessing.text.Tokenizer()\n",
        "token.fit_on_texts(lagu)\n",
        "seq = token.texts_to_sequences(lagu)"
      ],
      "metadata": {
        "id": "5vSwvzx0QDKJ"
      },
      "execution_count": 25,
      "outputs": []
    },
    {
      "cell_type": "code",
      "source": [
        "seq"
      ],
      "metadata": {
        "colab": {
          "base_uri": "https://localhost:8080/"
        },
        "id": "H6A7NCTXQDNA",
        "outputId": "681db8a6-eae2-414d-b977-8b82370b71e4"
      },
      "execution_count": 26,
      "outputs": [
        {
          "output_type": "execute_result",
          "data": {
            "text/plain": [
              "[[17, 35, 20],\n",
              " [18, 18, 36],\n",
              " [8, 14, 37],\n",
              " [15, 38, 21, 16],\n",
              " [39, 40, 8, 41],\n",
              " [42, 43, 44],\n",
              " [17, 45, 22],\n",
              " [46, 19, 19],\n",
              " [17, 35, 20],\n",
              " [18, 18, 36],\n",
              " [8, 14, 37],\n",
              " [15, 38, 21, 16],\n",
              " [39, 40, 8, 41],\n",
              " [42, 43, 44],\n",
              " [17, 45, 22],\n",
              " [46, 19, 19],\n",
              " [1, 1, 23, 24],\n",
              " [15, 14, 8, 25, 26, 9, 16],\n",
              " [27, 28, 29, 30],\n",
              " [1, 1, 31, 32],\n",
              " [1, 1, 23, 24],\n",
              " [15, 14, 8, 25, 26, 9, 16],\n",
              " [27, 28, 29, 30],\n",
              " [1, 1, 31, 32],\n",
              " [1, 1, 23, 24],\n",
              " [15, 14, 8, 25, 26, 9, 16],\n",
              " [27, 28, 29, 30],\n",
              " [1, 1, 31, 32],\n",
              " [3, 3, 3, 4, 9, 5],\n",
              " [4, 5, 10, 2, 6],\n",
              " [7, 2, 11, 12],\n",
              " [4, 5, 10, 2, 6],\n",
              " [7, 2, 11, 12],\n",
              " [61, 62, 63, 21, 22],\n",
              " [20, 64, 65, 66],\n",
              " [7, 47, 48, 13, 33, 6],\n",
              " [13, 49, 50, 34],\n",
              " [7, 47, 48, 13, 33, 6],\n",
              " [13, 49, 50, 34],\n",
              " [3, 3, 3, 4, 9, 5],\n",
              " [4, 5, 10, 2, 6],\n",
              " [7, 2, 11, 12],\n",
              " [4, 5, 10, 2, 6],\n",
              " [7, 2, 11, 12],\n",
              " [51, 51, 67, 68, 33],\n",
              " [34, 69, 70, 71],\n",
              " [52, 53, 54, 55, 56, 13],\n",
              " [57, 58, 59, 60],\n",
              " [52, 53, 54, 55, 56, 13],\n",
              " [57, 58, 59, 60],\n",
              " [3, 3, 3, 4, 9, 5],\n",
              " [4, 5, 10, 2, 6],\n",
              " [7, 2, 11, 12],\n",
              " [4, 5, 10, 2, 6],\n",
              " [7, 2, 11, 12]]"
            ]
          },
          "metadata": {},
          "execution_count": 26
        }
      ]
    },
    {
      "cell_type": "code",
      "source": [
        "token.word_index"
      ],
      "metadata": {
        "colab": {
          "base_uri": "https://localhost:8080/"
        },
        "id": "dd6Ki3XOXL5f",
        "outputId": "309b194e-b291-4d5e-803f-c4e8ee671976"
      },
      "execution_count": 42,
      "outputs": [
        {
          "output_type": "execute_result",
          "data": {
            "text/plain": [
              "{'ada': 35,\n",
              " 'agung': 28,\n",
              " 'alangkah': 23,\n",
              " 'anak': 4,\n",
              " 'balon': 40,\n",
              " 'balonku': 17,\n",
              " 'baru': 33,\n",
              " 'belilah': 70,\n",
              " 'biru': 16,\n",
              " 'ciptaan': 31,\n",
              " 'dalam': 65,\n",
              " 'dan': 21,\n",
              " 'dapat': 48,\n",
              " 'di': 25,\n",
              " 'dicium': 2,\n",
              " 'dikenang': 59,\n",
              " 'dilupakan': 50,\n",
              " 'dor': 41,\n",
              " 'dua': 62,\n",
              " 'dulu': 56,\n",
              " 'empat': 22,\n",
              " 'enam': 64,\n",
              " 'erat': 19,\n",
              " 'gerangan': 30,\n",
              " 'hatiku': 42,\n",
              " 'hijau': 8,\n",
              " 'indahmu': 24,\n",
              " 'ini': 52,\n",
              " 'jabangan': 66,\n",
              " 'jalan': 51,\n",
              " 'jaman': 54,\n",
              " 'jangan': 34,\n",
              " 'janganlah': 10,\n",
              " 'kacau': 44,\n",
              " 'kalau': 7,\n",
              " 'kawan': 13,\n",
              " 'ke': 67,\n",
              " 'kelabu': 37,\n",
              " 'kembali': 60,\n",
              " 'kuning': 14,\n",
              " 'kupegang': 46,\n",
              " 'lagu': 53,\n",
              " 'lama': 49,\n",
              " 'langit': 26,\n",
              " 'lima': 20,\n",
              " 'lupa': 69,\n",
              " 'manis': 5,\n",
              " 'meletus': 39,\n",
              " 'merah': 15,\n",
              " 'merahlah': 11,\n",
              " 'muda': 38,\n",
              " 'mungkin': 57,\n",
              " 'pasar': 68,\n",
              " 'pelangi': 1,\n",
              " 'pelukismu': 27,\n",
              " 'pipinya': 12,\n",
              " 'roti': 71,\n",
              " 'rupa': 18,\n",
              " 'sangat': 43,\n",
              " 'satu': 61,\n",
              " 'sayang': 6,\n",
              " 'sekarang': 58,\n",
              " 'siapa': 29,\n",
              " 'soleram': 3,\n",
              " 'tempo': 55,\n",
              " 'tiga': 63,\n",
              " 'tinggal': 45,\n",
              " 'tuan': 47,\n",
              " 'tuhan': 32,\n",
              " 'warnanya': 36,\n",
              " 'yang': 9}"
            ]
          },
          "metadata": {},
          "execution_count": 42
        }
      ]
    },
    {
      "cell_type": "code",
      "source": [
        "x = []\n",
        "y = []\n",
        "total_words_dropped = 0\n",
        "\n",
        "for i in seq:\n",
        "    if len(i) > 1:\n",
        "        for index in range(1, len(i)):\n",
        "            x.append(i[:index])\n",
        "            y.append(i[index])"
      ],
      "metadata": {
        "id": "qJmsLKg5QDRs"
      },
      "execution_count": 31,
      "outputs": []
    },
    {
      "cell_type": "code",
      "source": [
        "x"
      ],
      "metadata": {
        "colab": {
          "base_uri": "https://localhost:8080/"
        },
        "id": "WKdosliGXfjR",
        "outputId": "5fef7210-3726-4b0d-dbd9-41fa5d737e5a"
      },
      "execution_count": 32,
      "outputs": [
        {
          "output_type": "execute_result",
          "data": {
            "text/plain": [
              "[[17],\n",
              " [17, 35],\n",
              " [18],\n",
              " [18, 18],\n",
              " [8],\n",
              " [8, 14],\n",
              " [15],\n",
              " [15, 38],\n",
              " [15, 38, 21],\n",
              " [39],\n",
              " [39, 40],\n",
              " [39, 40, 8],\n",
              " [42],\n",
              " [42, 43],\n",
              " [17],\n",
              " [17, 45],\n",
              " [46],\n",
              " [46, 19],\n",
              " [17],\n",
              " [17, 35],\n",
              " [18],\n",
              " [18, 18],\n",
              " [8],\n",
              " [8, 14],\n",
              " [15],\n",
              " [15, 38],\n",
              " [15, 38, 21],\n",
              " [39],\n",
              " [39, 40],\n",
              " [39, 40, 8],\n",
              " [42],\n",
              " [42, 43],\n",
              " [17],\n",
              " [17, 45],\n",
              " [46],\n",
              " [46, 19],\n",
              " [1],\n",
              " [1, 1],\n",
              " [1, 1, 23],\n",
              " [15],\n",
              " [15, 14],\n",
              " [15, 14, 8],\n",
              " [15, 14, 8, 25],\n",
              " [15, 14, 8, 25, 26],\n",
              " [15, 14, 8, 25, 26, 9],\n",
              " [27],\n",
              " [27, 28],\n",
              " [27, 28, 29],\n",
              " [1],\n",
              " [1, 1],\n",
              " [1, 1, 31],\n",
              " [1],\n",
              " [1, 1],\n",
              " [1, 1, 23],\n",
              " [15],\n",
              " [15, 14],\n",
              " [15, 14, 8],\n",
              " [15, 14, 8, 25],\n",
              " [15, 14, 8, 25, 26],\n",
              " [15, 14, 8, 25, 26, 9],\n",
              " [27],\n",
              " [27, 28],\n",
              " [27, 28, 29],\n",
              " [1],\n",
              " [1, 1],\n",
              " [1, 1, 31],\n",
              " [1],\n",
              " [1, 1],\n",
              " [1, 1, 23],\n",
              " [15],\n",
              " [15, 14],\n",
              " [15, 14, 8],\n",
              " [15, 14, 8, 25],\n",
              " [15, 14, 8, 25, 26],\n",
              " [15, 14, 8, 25, 26, 9],\n",
              " [27],\n",
              " [27, 28],\n",
              " [27, 28, 29],\n",
              " [1],\n",
              " [1, 1],\n",
              " [1, 1, 31],\n",
              " [3],\n",
              " [3, 3],\n",
              " [3, 3, 3],\n",
              " [3, 3, 3, 4],\n",
              " [3, 3, 3, 4, 9],\n",
              " [4],\n",
              " [4, 5],\n",
              " [4, 5, 10],\n",
              " [4, 5, 10, 2],\n",
              " [7],\n",
              " [7, 2],\n",
              " [7, 2, 11],\n",
              " [4],\n",
              " [4, 5],\n",
              " [4, 5, 10],\n",
              " [4, 5, 10, 2],\n",
              " [7],\n",
              " [7, 2],\n",
              " [7, 2, 11],\n",
              " [61],\n",
              " [61, 62],\n",
              " [61, 62, 63],\n",
              " [61, 62, 63, 21],\n",
              " [20],\n",
              " [20, 64],\n",
              " [20, 64, 65],\n",
              " [7],\n",
              " [7, 47],\n",
              " [7, 47, 48],\n",
              " [7, 47, 48, 13],\n",
              " [7, 47, 48, 13, 33],\n",
              " [13],\n",
              " [13, 49],\n",
              " [13, 49, 50],\n",
              " [7],\n",
              " [7, 47],\n",
              " [7, 47, 48],\n",
              " [7, 47, 48, 13],\n",
              " [7, 47, 48, 13, 33],\n",
              " [13],\n",
              " [13, 49],\n",
              " [13, 49, 50],\n",
              " [3],\n",
              " [3, 3],\n",
              " [3, 3, 3],\n",
              " [3, 3, 3, 4],\n",
              " [3, 3, 3, 4, 9],\n",
              " [4],\n",
              " [4, 5],\n",
              " [4, 5, 10],\n",
              " [4, 5, 10, 2],\n",
              " [7],\n",
              " [7, 2],\n",
              " [7, 2, 11],\n",
              " [4],\n",
              " [4, 5],\n",
              " [4, 5, 10],\n",
              " [4, 5, 10, 2],\n",
              " [7],\n",
              " [7, 2],\n",
              " [7, 2, 11],\n",
              " [51],\n",
              " [51, 51],\n",
              " [51, 51, 67],\n",
              " [51, 51, 67, 68],\n",
              " [34],\n",
              " [34, 69],\n",
              " [34, 69, 70],\n",
              " [52],\n",
              " [52, 53],\n",
              " [52, 53, 54],\n",
              " [52, 53, 54, 55],\n",
              " [52, 53, 54, 55, 56],\n",
              " [57],\n",
              " [57, 58],\n",
              " [57, 58, 59],\n",
              " [52],\n",
              " [52, 53],\n",
              " [52, 53, 54],\n",
              " [52, 53, 54, 55],\n",
              " [52, 53, 54, 55, 56],\n",
              " [57],\n",
              " [57, 58],\n",
              " [57, 58, 59],\n",
              " [3],\n",
              " [3, 3],\n",
              " [3, 3, 3],\n",
              " [3, 3, 3, 4],\n",
              " [3, 3, 3, 4, 9],\n",
              " [4],\n",
              " [4, 5],\n",
              " [4, 5, 10],\n",
              " [4, 5, 10, 2],\n",
              " [7],\n",
              " [7, 2],\n",
              " [7, 2, 11],\n",
              " [4],\n",
              " [4, 5],\n",
              " [4, 5, 10],\n",
              " [4, 5, 10, 2],\n",
              " [7],\n",
              " [7, 2],\n",
              " [7, 2, 11]]"
            ]
          },
          "metadata": {},
          "execution_count": 32
        }
      ]
    },
    {
      "cell_type": "code",
      "source": [
        "y"
      ],
      "metadata": {
        "colab": {
          "base_uri": "https://localhost:8080/"
        },
        "id": "4cPfDw6TXflr",
        "outputId": "5942aa3a-99e4-42ec-bf7b-ca283d439e9d"
      },
      "execution_count": 33,
      "outputs": [
        {
          "output_type": "execute_result",
          "data": {
            "text/plain": [
              "[35,\n",
              " 20,\n",
              " 18,\n",
              " 36,\n",
              " 14,\n",
              " 37,\n",
              " 38,\n",
              " 21,\n",
              " 16,\n",
              " 40,\n",
              " 8,\n",
              " 41,\n",
              " 43,\n",
              " 44,\n",
              " 45,\n",
              " 22,\n",
              " 19,\n",
              " 19,\n",
              " 35,\n",
              " 20,\n",
              " 18,\n",
              " 36,\n",
              " 14,\n",
              " 37,\n",
              " 38,\n",
              " 21,\n",
              " 16,\n",
              " 40,\n",
              " 8,\n",
              " 41,\n",
              " 43,\n",
              " 44,\n",
              " 45,\n",
              " 22,\n",
              " 19,\n",
              " 19,\n",
              " 1,\n",
              " 23,\n",
              " 24,\n",
              " 14,\n",
              " 8,\n",
              " 25,\n",
              " 26,\n",
              " 9,\n",
              " 16,\n",
              " 28,\n",
              " 29,\n",
              " 30,\n",
              " 1,\n",
              " 31,\n",
              " 32,\n",
              " 1,\n",
              " 23,\n",
              " 24,\n",
              " 14,\n",
              " 8,\n",
              " 25,\n",
              " 26,\n",
              " 9,\n",
              " 16,\n",
              " 28,\n",
              " 29,\n",
              " 30,\n",
              " 1,\n",
              " 31,\n",
              " 32,\n",
              " 1,\n",
              " 23,\n",
              " 24,\n",
              " 14,\n",
              " 8,\n",
              " 25,\n",
              " 26,\n",
              " 9,\n",
              " 16,\n",
              " 28,\n",
              " 29,\n",
              " 30,\n",
              " 1,\n",
              " 31,\n",
              " 32,\n",
              " 3,\n",
              " 3,\n",
              " 4,\n",
              " 9,\n",
              " 5,\n",
              " 5,\n",
              " 10,\n",
              " 2,\n",
              " 6,\n",
              " 2,\n",
              " 11,\n",
              " 12,\n",
              " 5,\n",
              " 10,\n",
              " 2,\n",
              " 6,\n",
              " 2,\n",
              " 11,\n",
              " 12,\n",
              " 62,\n",
              " 63,\n",
              " 21,\n",
              " 22,\n",
              " 64,\n",
              " 65,\n",
              " 66,\n",
              " 47,\n",
              " 48,\n",
              " 13,\n",
              " 33,\n",
              " 6,\n",
              " 49,\n",
              " 50,\n",
              " 34,\n",
              " 47,\n",
              " 48,\n",
              " 13,\n",
              " 33,\n",
              " 6,\n",
              " 49,\n",
              " 50,\n",
              " 34,\n",
              " 3,\n",
              " 3,\n",
              " 4,\n",
              " 9,\n",
              " 5,\n",
              " 5,\n",
              " 10,\n",
              " 2,\n",
              " 6,\n",
              " 2,\n",
              " 11,\n",
              " 12,\n",
              " 5,\n",
              " 10,\n",
              " 2,\n",
              " 6,\n",
              " 2,\n",
              " 11,\n",
              " 12,\n",
              " 51,\n",
              " 67,\n",
              " 68,\n",
              " 33,\n",
              " 69,\n",
              " 70,\n",
              " 71,\n",
              " 53,\n",
              " 54,\n",
              " 55,\n",
              " 56,\n",
              " 13,\n",
              " 58,\n",
              " 59,\n",
              " 60,\n",
              " 53,\n",
              " 54,\n",
              " 55,\n",
              " 56,\n",
              " 13,\n",
              " 58,\n",
              " 59,\n",
              " 60,\n",
              " 3,\n",
              " 3,\n",
              " 4,\n",
              " 9,\n",
              " 5,\n",
              " 5,\n",
              " 10,\n",
              " 2,\n",
              " 6,\n",
              " 2,\n",
              " 11,\n",
              " 12,\n",
              " 5,\n",
              " 10,\n",
              " 2,\n",
              " 6,\n",
              " 2,\n",
              " 11,\n",
              " 12]"
            ]
          },
          "metadata": {},
          "execution_count": 33
        }
      ]
    },
    {
      "cell_type": "code",
      "source": [
        "x = tf.keras.preprocessing.sequence.pad_sequences(x)\n",
        "print(x)\n",
        "print(x.shape)"
      ],
      "metadata": {
        "colab": {
          "base_uri": "https://localhost:8080/"
        },
        "id": "kbMZaxinXfoR",
        "outputId": "0c6849c0-2c8b-47e1-fc69-a30e35bf6018"
      },
      "execution_count": 38,
      "outputs": [
        {
          "output_type": "stream",
          "name": "stdout",
          "text": [
            "[[ 0  0  0  0  0 17]\n",
            " [ 0  0  0  0 17 35]\n",
            " [ 0  0  0  0  0 18]\n",
            " ...\n",
            " [ 0  0  0  0  0  7]\n",
            " [ 0  0  0  0  7  2]\n",
            " [ 0  0  0  7  2 11]]\n",
            "(184, 6)\n"
          ]
        }
      ]
    },
    {
      "cell_type": "code",
      "source": [
        "y = tf.keras.utils.to_categorical(y)\n",
        "print(y)\n",
        "print(y.shape)"
      ],
      "metadata": {
        "colab": {
          "base_uri": "https://localhost:8080/"
        },
        "id": "yRZ1hrTkZG4I",
        "outputId": "6163127c-85e7-46a4-fb4d-d14d71275051"
      },
      "execution_count": 39,
      "outputs": [
        {
          "output_type": "stream",
          "name": "stdout",
          "text": [
            "[[0. 0. 0. ... 0. 0. 0.]\n",
            " [0. 0. 0. ... 0. 0. 0.]\n",
            " [0. 0. 0. ... 0. 0. 0.]\n",
            " ...\n",
            " [0. 0. 1. ... 0. 0. 0.]\n",
            " [0. 0. 0. ... 0. 0. 0.]\n",
            " [0. 0. 0. ... 0. 0. 0.]]\n",
            "(184, 72)\n"
          ]
        }
      ]
    },
    {
      "cell_type": "code",
      "source": [
        "vocab_size = len(token.word_index) + 1\n",
        "vocab_size"
      ],
      "metadata": {
        "colab": {
          "base_uri": "https://localhost:8080/"
        },
        "id": "TYegxdpUZG69",
        "outputId": "45ce33e2-72af-4866-d86d-f65f5fa05e40"
      },
      "execution_count": 40,
      "outputs": [
        {
          "output_type": "execute_result",
          "data": {
            "text/plain": [
              "72"
            ]
          },
          "metadata": {},
          "execution_count": 40
        }
      ]
    },
    {
      "cell_type": "code",
      "source": [
        "model = tf.keras.Sequential([\n",
        "    tf.keras.layers.Embedding(vocab_size, 14),\n",
        "    tf.keras.layers.LSTM(64, return_sequences=True),\n",
        "    tf.keras.layers.LSTM(64),\n",
        "    tf.keras.layers.Dense(256, activation='relu'),\n",
        "    tf.keras.layers.Dense(512, activation='relu'),\n",
        "    tf.keras.layers.Dense(256, activation='relu'),\n",
        "    tf.keras.layers.Dense(vocab_size, activation='softmax'),\n",
        "])"
      ],
      "metadata": {
        "id": "4e1Q5j87Z00M"
      },
      "execution_count": 43,
      "outputs": []
    },
    {
      "cell_type": "code",
      "source": [
        "model.summary()"
      ],
      "metadata": {
        "colab": {
          "base_uri": "https://localhost:8080/"
        },
        "id": "CBZcr5eXZ02z",
        "outputId": "370cae34-8f81-4b8f-e813-00411ca0517e"
      },
      "execution_count": 45,
      "outputs": [
        {
          "output_type": "stream",
          "name": "stdout",
          "text": [
            "Model: \"sequential\"\n",
            "_________________________________________________________________\n",
            " Layer (type)                Output Shape              Param #   \n",
            "=================================================================\n",
            " embedding (Embedding)       (None, None, 14)          1008      \n",
            "                                                                 \n",
            " lstm (LSTM)                 (None, None, 64)          20224     \n",
            "                                                                 \n",
            " lstm_1 (LSTM)               (None, 64)                33024     \n",
            "                                                                 \n",
            " dense (Dense)               (None, 256)               16640     \n",
            "                                                                 \n",
            " dense_1 (Dense)             (None, 512)               131584    \n",
            "                                                                 \n",
            " dense_2 (Dense)             (None, 256)               131328    \n",
            "                                                                 \n",
            " dense_3 (Dense)             (None, 72)                18504     \n",
            "                                                                 \n",
            "=================================================================\n",
            "Total params: 352,312\n",
            "Trainable params: 352,312\n",
            "Non-trainable params: 0\n",
            "_________________________________________________________________\n"
          ]
        }
      ]
    },
    {
      "cell_type": "code",
      "source": [
        "model.compile(\n",
        "    optimizer=tf.keras.optimizers.Adam(learning_rate=0.005), \n",
        "    loss='categorical_crossentropy', \n",
        "    metrics=['accuracy'])"
      ],
      "metadata": {
        "id": "1QSvjPlZZ05g"
      },
      "execution_count": 46,
      "outputs": []
    },
    {
      "cell_type": "code",
      "source": [
        "history = model.fit(x, y, epochs=200)"
      ],
      "metadata": {
        "colab": {
          "base_uri": "https://localhost:8080/"
        },
        "id": "pkrM0G54Z08J",
        "outputId": "4a900e9e-6103-4520-a5b8-abcaa50158a4"
      },
      "execution_count": 47,
      "outputs": [
        {
          "output_type": "stream",
          "name": "stdout",
          "text": [
            "Epoch 1/200\n",
            "6/6 [==============================] - 4s 18ms/step - loss: 4.2705 - accuracy: 0.0435\n",
            "Epoch 2/200\n",
            "6/6 [==============================] - 0s 14ms/step - loss: 4.0699 - accuracy: 0.0652\n",
            "Epoch 3/200\n",
            "6/6 [==============================] - 0s 14ms/step - loss: 3.9885 - accuracy: 0.0652\n",
            "Epoch 4/200\n",
            "6/6 [==============================] - 0s 15ms/step - loss: 3.9045 - accuracy: 0.0217\n",
            "Epoch 5/200\n",
            "6/6 [==============================] - 0s 15ms/step - loss: 3.7323 - accuracy: 0.0652\n",
            "Epoch 6/200\n",
            "6/6 [==============================] - 0s 15ms/step - loss: 3.6155 - accuracy: 0.0380\n",
            "Epoch 7/200\n",
            "6/6 [==============================] - 0s 17ms/step - loss: 3.4615 - accuracy: 0.0598\n",
            "Epoch 8/200\n",
            "6/6 [==============================] - 0s 14ms/step - loss: 3.2993 - accuracy: 0.0652\n",
            "Epoch 9/200\n",
            "6/6 [==============================] - 0s 14ms/step - loss: 3.2144 - accuracy: 0.0489\n",
            "Epoch 10/200\n",
            "6/6 [==============================] - 0s 14ms/step - loss: 3.0801 - accuracy: 0.1141\n",
            "Epoch 11/200\n",
            "6/6 [==============================] - 0s 18ms/step - loss: 2.9859 - accuracy: 0.1196\n",
            "Epoch 12/200\n",
            "6/6 [==============================] - 0s 17ms/step - loss: 2.8287 - accuracy: 0.1467\n",
            "Epoch 13/200\n",
            "6/6 [==============================] - 0s 14ms/step - loss: 2.6186 - accuracy: 0.1957\n",
            "Epoch 14/200\n",
            "6/6 [==============================] - 0s 16ms/step - loss: 2.3872 - accuracy: 0.2446\n",
            "Epoch 15/200\n",
            "6/6 [==============================] - 0s 16ms/step - loss: 2.2211 - accuracy: 0.2609\n",
            "Epoch 16/200\n",
            "6/6 [==============================] - 0s 14ms/step - loss: 2.0699 - accuracy: 0.2663\n",
            "Epoch 17/200\n",
            "6/6 [==============================] - 0s 15ms/step - loss: 2.0027 - accuracy: 0.3315\n",
            "Epoch 18/200\n",
            "6/6 [==============================] - 0s 14ms/step - loss: 1.8548 - accuracy: 0.3424\n",
            "Epoch 19/200\n",
            "6/6 [==============================] - 0s 17ms/step - loss: 1.6781 - accuracy: 0.4348\n",
            "Epoch 20/200\n",
            "6/6 [==============================] - 0s 14ms/step - loss: 1.5973 - accuracy: 0.4076\n",
            "Epoch 21/200\n",
            "6/6 [==============================] - 0s 18ms/step - loss: 1.5555 - accuracy: 0.4185\n",
            "Epoch 22/200\n",
            "6/6 [==============================] - 0s 14ms/step - loss: 1.4507 - accuracy: 0.4837\n",
            "Epoch 23/200\n",
            "6/6 [==============================] - 0s 15ms/step - loss: 1.5446 - accuracy: 0.4620\n",
            "Epoch 24/200\n",
            "6/6 [==============================] - 0s 15ms/step - loss: 1.3538 - accuracy: 0.5109\n",
            "Epoch 25/200\n",
            "6/6 [==============================] - 0s 15ms/step - loss: 1.1647 - accuracy: 0.5598\n",
            "Epoch 26/200\n",
            "6/6 [==============================] - 0s 15ms/step - loss: 1.1213 - accuracy: 0.5598\n",
            "Epoch 27/200\n",
            "6/6 [==============================] - 0s 15ms/step - loss: 1.2808 - accuracy: 0.5272\n",
            "Epoch 28/200\n",
            "6/6 [==============================] - 0s 14ms/step - loss: 1.5917 - accuracy: 0.4728\n",
            "Epoch 29/200\n",
            "6/6 [==============================] - 0s 14ms/step - loss: 1.2847 - accuracy: 0.4891\n",
            "Epoch 30/200\n",
            "6/6 [==============================] - 0s 16ms/step - loss: 1.1223 - accuracy: 0.6250\n",
            "Epoch 31/200\n",
            "6/6 [==============================] - 0s 20ms/step - loss: 0.8905 - accuracy: 0.6739\n",
            "Epoch 32/200\n",
            "6/6 [==============================] - 0s 15ms/step - loss: 0.7530 - accuracy: 0.6957\n",
            "Epoch 33/200\n",
            "6/6 [==============================] - 0s 15ms/step - loss: 0.7275 - accuracy: 0.7446\n",
            "Epoch 34/200\n",
            "6/6 [==============================] - 0s 14ms/step - loss: 0.6287 - accuracy: 0.7500\n",
            "Epoch 35/200\n",
            "6/6 [==============================] - 0s 15ms/step - loss: 0.5840 - accuracy: 0.7935\n",
            "Epoch 36/200\n",
            "6/6 [==============================] - 0s 14ms/step - loss: 0.5215 - accuracy: 0.7989\n",
            "Epoch 37/200\n",
            "6/6 [==============================] - 0s 14ms/step - loss: 0.4906 - accuracy: 0.8261\n",
            "Epoch 38/200\n",
            "6/6 [==============================] - 0s 15ms/step - loss: 0.5801 - accuracy: 0.7772\n",
            "Epoch 39/200\n",
            "6/6 [==============================] - 0s 15ms/step - loss: 0.6077 - accuracy: 0.7663\n",
            "Epoch 40/200\n",
            "6/6 [==============================] - 0s 14ms/step - loss: 0.5733 - accuracy: 0.7935\n",
            "Epoch 41/200\n",
            "6/6 [==============================] - 0s 15ms/step - loss: 0.5607 - accuracy: 0.7935\n",
            "Epoch 42/200\n",
            "6/6 [==============================] - 0s 18ms/step - loss: 0.5015 - accuracy: 0.8207\n",
            "Epoch 43/200\n",
            "6/6 [==============================] - 0s 15ms/step - loss: 0.4402 - accuracy: 0.8370\n",
            "Epoch 44/200\n",
            "6/6 [==============================] - 0s 14ms/step - loss: 0.4113 - accuracy: 0.8315\n",
            "Epoch 45/200\n",
            "6/6 [==============================] - 0s 15ms/step - loss: 0.4303 - accuracy: 0.8261\n",
            "Epoch 46/200\n",
            "6/6 [==============================] - 0s 14ms/step - loss: 0.4699 - accuracy: 0.7935\n",
            "Epoch 47/200\n",
            "6/6 [==============================] - 0s 15ms/step - loss: 0.4243 - accuracy: 0.8261\n",
            "Epoch 48/200\n",
            "6/6 [==============================] - 0s 16ms/step - loss: 0.4828 - accuracy: 0.7989\n",
            "Epoch 49/200\n",
            "6/6 [==============================] - 0s 15ms/step - loss: 0.6369 - accuracy: 0.7228\n",
            "Epoch 50/200\n",
            "6/6 [==============================] - 0s 15ms/step - loss: 0.5129 - accuracy: 0.8424\n",
            "Epoch 51/200\n",
            "6/6 [==============================] - 0s 15ms/step - loss: 0.4098 - accuracy: 0.8315\n",
            "Epoch 52/200\n",
            "6/6 [==============================] - 0s 18ms/step - loss: 0.3395 - accuracy: 0.8587\n",
            "Epoch 53/200\n",
            "6/6 [==============================] - 0s 16ms/step - loss: 0.4078 - accuracy: 0.8587\n",
            "Epoch 54/200\n",
            "6/6 [==============================] - 0s 16ms/step - loss: 0.5365 - accuracy: 0.8370\n",
            "Epoch 55/200\n",
            "6/6 [==============================] - 0s 16ms/step - loss: 0.3769 - accuracy: 0.8261\n",
            "Epoch 56/200\n",
            "6/6 [==============================] - 0s 14ms/step - loss: 0.3270 - accuracy: 0.8750\n",
            "Epoch 57/200\n",
            "6/6 [==============================] - 0s 15ms/step - loss: 0.3355 - accuracy: 0.8641\n",
            "Epoch 58/200\n",
            "6/6 [==============================] - 0s 15ms/step - loss: 0.3201 - accuracy: 0.8804\n",
            "Epoch 59/200\n",
            "6/6 [==============================] - 0s 15ms/step - loss: 0.3462 - accuracy: 0.8804\n",
            "Epoch 60/200\n",
            "6/6 [==============================] - 0s 14ms/step - loss: 0.4402 - accuracy: 0.8641\n",
            "Epoch 61/200\n",
            "6/6 [==============================] - 0s 16ms/step - loss: 0.2907 - accuracy: 0.8859\n",
            "Epoch 62/200\n",
            "6/6 [==============================] - 0s 17ms/step - loss: 0.3409 - accuracy: 0.8913\n",
            "Epoch 63/200\n",
            "6/6 [==============================] - 0s 16ms/step - loss: 0.3259 - accuracy: 0.8587\n",
            "Epoch 64/200\n",
            "6/6 [==============================] - 0s 16ms/step - loss: 0.4566 - accuracy: 0.8261\n",
            "Epoch 65/200\n",
            "6/6 [==============================] - 0s 14ms/step - loss: 0.3923 - accuracy: 0.8641\n",
            "Epoch 66/200\n",
            "6/6 [==============================] - 0s 14ms/step - loss: 0.4085 - accuracy: 0.8696\n",
            "Epoch 67/200\n",
            "6/6 [==============================] - 0s 15ms/step - loss: 0.2792 - accuracy: 0.8750\n",
            "Epoch 68/200\n",
            "6/6 [==============================] - 0s 14ms/step - loss: 0.2826 - accuracy: 0.8859\n",
            "Epoch 69/200\n",
            "6/6 [==============================] - 0s 16ms/step - loss: 0.2327 - accuracy: 0.9239\n",
            "Epoch 70/200\n",
            "6/6 [==============================] - 0s 14ms/step - loss: 0.2388 - accuracy: 0.9185\n",
            "Epoch 71/200\n",
            "6/6 [==============================] - 0s 14ms/step - loss: 0.2220 - accuracy: 0.9130\n",
            "Epoch 72/200\n",
            "6/6 [==============================] - 0s 16ms/step - loss: 0.1524 - accuracy: 0.9457\n",
            "Epoch 73/200\n",
            "6/6 [==============================] - 0s 15ms/step - loss: 0.2216 - accuracy: 0.9076\n",
            "Epoch 74/200\n",
            "6/6 [==============================] - 0s 15ms/step - loss: 0.4886 - accuracy: 0.8859\n",
            "Epoch 75/200\n",
            "6/6 [==============================] - 0s 15ms/step - loss: 0.4555 - accuracy: 0.8424\n",
            "Epoch 76/200\n",
            "6/6 [==============================] - 0s 14ms/step - loss: 0.3824 - accuracy: 0.8424\n",
            "Epoch 77/200\n",
            "6/6 [==============================] - 0s 15ms/step - loss: 0.3030 - accuracy: 0.8750\n",
            "Epoch 78/200\n",
            "6/6 [==============================] - 0s 15ms/step - loss: 0.2941 - accuracy: 0.8696\n",
            "Epoch 79/200\n",
            "6/6 [==============================] - 0s 15ms/step - loss: 0.2225 - accuracy: 0.9022\n",
            "Epoch 80/200\n",
            "6/6 [==============================] - 0s 15ms/step - loss: 0.2132 - accuracy: 0.9239\n",
            "Epoch 81/200\n",
            "6/6 [==============================] - 0s 15ms/step - loss: 0.3265 - accuracy: 0.8804\n",
            "Epoch 82/200\n",
            "6/6 [==============================] - 0s 19ms/step - loss: 0.2449 - accuracy: 0.8913\n",
            "Epoch 83/200\n",
            "6/6 [==============================] - 0s 16ms/step - loss: 0.2528 - accuracy: 0.9022\n",
            "Epoch 84/200\n",
            "6/6 [==============================] - 0s 15ms/step - loss: 0.2572 - accuracy: 0.8913\n",
            "Epoch 85/200\n",
            "6/6 [==============================] - 0s 16ms/step - loss: 0.1581 - accuracy: 0.9293\n",
            "Epoch 86/200\n",
            "6/6 [==============================] - 0s 16ms/step - loss: 0.1353 - accuracy: 0.9293\n",
            "Epoch 87/200\n",
            "6/6 [==============================] - 0s 15ms/step - loss: 0.1157 - accuracy: 0.9511\n",
            "Epoch 88/200\n",
            "6/6 [==============================] - 0s 17ms/step - loss: 0.1236 - accuracy: 0.9348\n",
            "Epoch 89/200\n",
            "6/6 [==============================] - 0s 17ms/step - loss: 0.1178 - accuracy: 0.9293\n",
            "Epoch 90/200\n",
            "6/6 [==============================] - 0s 16ms/step - loss: 0.1096 - accuracy: 0.9348\n",
            "Epoch 91/200\n",
            "6/6 [==============================] - 0s 16ms/step - loss: 0.1014 - accuracy: 0.9457\n",
            "Epoch 92/200\n",
            "6/6 [==============================] - 0s 16ms/step - loss: 0.1119 - accuracy: 0.9511\n",
            "Epoch 93/200\n",
            "6/6 [==============================] - 0s 14ms/step - loss: 0.0950 - accuracy: 0.9511\n",
            "Epoch 94/200\n",
            "6/6 [==============================] - 0s 14ms/step - loss: 0.1193 - accuracy: 0.9457\n",
            "Epoch 95/200\n",
            "6/6 [==============================] - 0s 16ms/step - loss: 0.0934 - accuracy: 0.9457\n",
            "Epoch 96/200\n",
            "6/6 [==============================] - 0s 14ms/step - loss: 0.0966 - accuracy: 0.9402\n",
            "Epoch 97/200\n",
            "6/6 [==============================] - 0s 15ms/step - loss: 0.1001 - accuracy: 0.9402\n",
            "Epoch 98/200\n",
            "6/6 [==============================] - 0s 15ms/step - loss: 0.1004 - accuracy: 0.9511\n",
            "Epoch 99/200\n",
            "6/6 [==============================] - 0s 17ms/step - loss: 0.0915 - accuracy: 0.9511\n",
            "Epoch 100/200\n",
            "6/6 [==============================] - 0s 16ms/step - loss: 0.0941 - accuracy: 0.9402\n",
            "Epoch 101/200\n",
            "6/6 [==============================] - 0s 15ms/step - loss: 0.0883 - accuracy: 0.9457\n",
            "Epoch 102/200\n",
            "6/6 [==============================] - 0s 15ms/step - loss: 0.0903 - accuracy: 0.9511\n",
            "Epoch 103/200\n",
            "6/6 [==============================] - 0s 17ms/step - loss: 0.0968 - accuracy: 0.9457\n",
            "Epoch 104/200\n",
            "6/6 [==============================] - 0s 16ms/step - loss: 0.0976 - accuracy: 0.9402\n",
            "Epoch 105/200\n",
            "6/6 [==============================] - 0s 15ms/step - loss: 0.0930 - accuracy: 0.9457\n",
            "Epoch 106/200\n",
            "6/6 [==============================] - 0s 15ms/step - loss: 0.0893 - accuracy: 0.9457\n",
            "Epoch 107/200\n",
            "6/6 [==============================] - 0s 14ms/step - loss: 0.1021 - accuracy: 0.9402\n",
            "Epoch 108/200\n",
            "6/6 [==============================] - 0s 15ms/step - loss: 0.0908 - accuracy: 0.9402\n",
            "Epoch 109/200\n",
            "6/6 [==============================] - 0s 15ms/step - loss: 0.0935 - accuracy: 0.9457\n",
            "Epoch 110/200\n",
            "6/6 [==============================] - 0s 16ms/step - loss: 0.0980 - accuracy: 0.9457\n",
            "Epoch 111/200\n",
            "6/6 [==============================] - 0s 17ms/step - loss: 0.0908 - accuracy: 0.9511\n",
            "Epoch 112/200\n",
            "6/6 [==============================] - 0s 15ms/step - loss: 0.0866 - accuracy: 0.9457\n",
            "Epoch 113/200\n",
            "6/6 [==============================] - 0s 17ms/step - loss: 0.0931 - accuracy: 0.9348\n",
            "Epoch 114/200\n",
            "6/6 [==============================] - 0s 15ms/step - loss: 0.0927 - accuracy: 0.9402\n",
            "Epoch 115/200\n",
            "6/6 [==============================] - 0s 16ms/step - loss: 0.0900 - accuracy: 0.9457\n",
            "Epoch 116/200\n",
            "6/6 [==============================] - 0s 15ms/step - loss: 0.0908 - accuracy: 0.9293\n",
            "Epoch 117/200\n",
            "6/6 [==============================] - 0s 15ms/step - loss: 0.0889 - accuracy: 0.9402\n",
            "Epoch 118/200\n",
            "6/6 [==============================] - 0s 15ms/step - loss: 0.0889 - accuracy: 0.9511\n",
            "Epoch 119/200\n",
            "6/6 [==============================] - 0s 15ms/step - loss: 0.0861 - accuracy: 0.9565\n",
            "Epoch 120/200\n",
            "6/6 [==============================] - 0s 16ms/step - loss: 0.0924 - accuracy: 0.9457\n",
            "Epoch 121/200\n",
            "6/6 [==============================] - 0s 15ms/step - loss: 0.0861 - accuracy: 0.9457\n",
            "Epoch 122/200\n",
            "6/6 [==============================] - 0s 15ms/step - loss: 0.0886 - accuracy: 0.9457\n",
            "Epoch 123/200\n",
            "6/6 [==============================] - 0s 18ms/step - loss: 0.0976 - accuracy: 0.9402\n",
            "Epoch 124/200\n",
            "6/6 [==============================] - 0s 15ms/step - loss: 0.0873 - accuracy: 0.9457\n",
            "Epoch 125/200\n",
            "6/6 [==============================] - 0s 15ms/step - loss: 0.0947 - accuracy: 0.9402\n",
            "Epoch 126/200\n",
            "6/6 [==============================] - 0s 15ms/step - loss: 0.0852 - accuracy: 0.9511\n",
            "Epoch 127/200\n",
            "6/6 [==============================] - 0s 16ms/step - loss: 0.0962 - accuracy: 0.9511\n",
            "Epoch 128/200\n",
            "6/6 [==============================] - 0s 15ms/step - loss: 0.0911 - accuracy: 0.9402\n",
            "Epoch 129/200\n",
            "6/6 [==============================] - 0s 15ms/step - loss: 0.0882 - accuracy: 0.9511\n",
            "Epoch 130/200\n",
            "6/6 [==============================] - 0s 15ms/step - loss: 0.1034 - accuracy: 0.9402\n",
            "Epoch 131/200\n",
            "6/6 [==============================] - 0s 17ms/step - loss: 0.0968 - accuracy: 0.9457\n",
            "Epoch 132/200\n",
            "6/6 [==============================] - 0s 18ms/step - loss: 0.0957 - accuracy: 0.9457\n",
            "Epoch 133/200\n",
            "6/6 [==============================] - 0s 16ms/step - loss: 0.0884 - accuracy: 0.9348\n",
            "Epoch 134/200\n",
            "6/6 [==============================] - 0s 15ms/step - loss: 0.0991 - accuracy: 0.9457\n",
            "Epoch 135/200\n",
            "6/6 [==============================] - 0s 16ms/step - loss: 0.0867 - accuracy: 0.9511\n",
            "Epoch 136/200\n",
            "6/6 [==============================] - 0s 16ms/step - loss: 0.0967 - accuracy: 0.9511\n",
            "Epoch 137/200\n",
            "6/6 [==============================] - 0s 16ms/step - loss: 0.0906 - accuracy: 0.9402\n",
            "Epoch 138/200\n",
            "6/6 [==============================] - 0s 16ms/step - loss: 0.0914 - accuracy: 0.9511\n",
            "Epoch 139/200\n",
            "6/6 [==============================] - 0s 15ms/step - loss: 0.0906 - accuracy: 0.9402\n",
            "Epoch 140/200\n",
            "6/6 [==============================] - 0s 16ms/step - loss: 0.0909 - accuracy: 0.9457\n",
            "Epoch 141/200\n",
            "6/6 [==============================] - 0s 16ms/step - loss: 0.0895 - accuracy: 0.9511\n",
            "Epoch 142/200\n",
            "6/6 [==============================] - 0s 18ms/step - loss: 0.0879 - accuracy: 0.9511\n",
            "Epoch 143/200\n",
            "6/6 [==============================] - 0s 16ms/step - loss: 0.0953 - accuracy: 0.9348\n",
            "Epoch 144/200\n",
            "6/6 [==============================] - 0s 15ms/step - loss: 0.0888 - accuracy: 0.9348\n",
            "Epoch 145/200\n",
            "6/6 [==============================] - 0s 16ms/step - loss: 0.0881 - accuracy: 0.9402\n",
            "Epoch 146/200\n",
            "6/6 [==============================] - 0s 14ms/step - loss: 0.0941 - accuracy: 0.9511\n",
            "Epoch 147/200\n",
            "6/6 [==============================] - 0s 14ms/step - loss: 0.1001 - accuracy: 0.9348\n",
            "Epoch 148/200\n",
            "6/6 [==============================] - 0s 15ms/step - loss: 0.0906 - accuracy: 0.9402\n",
            "Epoch 149/200\n",
            "6/6 [==============================] - 0s 16ms/step - loss: 0.0877 - accuracy: 0.9511\n",
            "Epoch 150/200\n",
            "6/6 [==============================] - 0s 15ms/step - loss: 0.0924 - accuracy: 0.9402\n",
            "Epoch 151/200\n",
            "6/6 [==============================] - 0s 16ms/step - loss: 0.0943 - accuracy: 0.9402\n",
            "Epoch 152/200\n",
            "6/6 [==============================] - 0s 18ms/step - loss: 0.0906 - accuracy: 0.9511\n",
            "Epoch 153/200\n",
            "6/6 [==============================] - 0s 16ms/step - loss: 0.0872 - accuracy: 0.9511\n",
            "Epoch 154/200\n",
            "6/6 [==============================] - 0s 18ms/step - loss: 0.0864 - accuracy: 0.9511\n",
            "Epoch 155/200\n",
            "6/6 [==============================] - 0s 15ms/step - loss: 0.0880 - accuracy: 0.9402\n",
            "Epoch 156/200\n",
            "6/6 [==============================] - 0s 16ms/step - loss: 0.0915 - accuracy: 0.9457\n",
            "Epoch 157/200\n",
            "6/6 [==============================] - 0s 18ms/step - loss: 0.0913 - accuracy: 0.9511\n",
            "Epoch 158/200\n",
            "6/6 [==============================] - 0s 15ms/step - loss: 0.0863 - accuracy: 0.9457\n",
            "Epoch 159/200\n",
            "6/6 [==============================] - 0s 15ms/step - loss: 0.0900 - accuracy: 0.9511\n",
            "Epoch 160/200\n",
            "6/6 [==============================] - 0s 16ms/step - loss: 0.0896 - accuracy: 0.9293\n",
            "Epoch 161/200\n",
            "6/6 [==============================] - 0s 15ms/step - loss: 0.0924 - accuracy: 0.9457\n",
            "Epoch 162/200\n",
            "6/6 [==============================] - 0s 18ms/step - loss: 0.0903 - accuracy: 0.9402\n",
            "Epoch 163/200\n",
            "6/6 [==============================] - 0s 14ms/step - loss: 0.1016 - accuracy: 0.9348\n",
            "Epoch 164/200\n",
            "6/6 [==============================] - 0s 15ms/step - loss: 0.0865 - accuracy: 0.9402\n",
            "Epoch 165/200\n",
            "6/6 [==============================] - 0s 16ms/step - loss: 0.0882 - accuracy: 0.9511\n",
            "Epoch 166/200\n",
            "6/6 [==============================] - 0s 15ms/step - loss: 0.1010 - accuracy: 0.9293\n",
            "Epoch 167/200\n",
            "6/6 [==============================] - 0s 16ms/step - loss: 0.0838 - accuracy: 0.9457\n",
            "Epoch 168/200\n",
            "6/6 [==============================] - 0s 15ms/step - loss: 0.0950 - accuracy: 0.9457\n",
            "Epoch 169/200\n",
            "6/6 [==============================] - 0s 16ms/step - loss: 0.0912 - accuracy: 0.9402\n",
            "Epoch 170/200\n",
            "6/6 [==============================] - 0s 14ms/step - loss: 0.0968 - accuracy: 0.9348\n",
            "Epoch 171/200\n",
            "6/6 [==============================] - 0s 14ms/step - loss: 0.0967 - accuracy: 0.9239\n",
            "Epoch 172/200\n",
            "6/6 [==============================] - 0s 18ms/step - loss: 0.0890 - accuracy: 0.9402\n",
            "Epoch 173/200\n",
            "6/6 [==============================] - 0s 15ms/step - loss: 0.0888 - accuracy: 0.9457\n",
            "Epoch 174/200\n",
            "6/6 [==============================] - 0s 16ms/step - loss: 0.0857 - accuracy: 0.9511\n",
            "Epoch 175/200\n",
            "6/6 [==============================] - 0s 16ms/step - loss: 0.0857 - accuracy: 0.9511\n",
            "Epoch 176/200\n",
            "6/6 [==============================] - 0s 15ms/step - loss: 0.1051 - accuracy: 0.9457\n",
            "Epoch 177/200\n",
            "6/6 [==============================] - 0s 15ms/step - loss: 0.0919 - accuracy: 0.9457\n",
            "Epoch 178/200\n",
            "6/6 [==============================] - 0s 16ms/step - loss: 0.0924 - accuracy: 0.9457\n",
            "Epoch 179/200\n",
            "6/6 [==============================] - 0s 16ms/step - loss: 0.0986 - accuracy: 0.9457\n",
            "Epoch 180/200\n",
            "6/6 [==============================] - 0s 16ms/step - loss: 0.0863 - accuracy: 0.9511\n",
            "Epoch 181/200\n",
            "6/6 [==============================] - 0s 15ms/step - loss: 0.0868 - accuracy: 0.9511\n",
            "Epoch 182/200\n",
            "6/6 [==============================] - 0s 18ms/step - loss: 0.0880 - accuracy: 0.9511\n",
            "Epoch 183/200\n",
            "6/6 [==============================] - 0s 15ms/step - loss: 0.0917 - accuracy: 0.9402\n",
            "Epoch 184/200\n",
            "6/6 [==============================] - 0s 15ms/step - loss: 0.0872 - accuracy: 0.9402\n",
            "Epoch 185/200\n",
            "6/6 [==============================] - 0s 15ms/step - loss: 0.0883 - accuracy: 0.9293\n",
            "Epoch 186/200\n",
            "6/6 [==============================] - 0s 16ms/step - loss: 0.0880 - accuracy: 0.9402\n",
            "Epoch 187/200\n",
            "6/6 [==============================] - 0s 15ms/step - loss: 0.0885 - accuracy: 0.9457\n",
            "Epoch 188/200\n",
            "6/6 [==============================] - 0s 15ms/step - loss: 0.0844 - accuracy: 0.9565\n",
            "Epoch 189/200\n",
            "6/6 [==============================] - 0s 15ms/step - loss: 0.0893 - accuracy: 0.9457\n",
            "Epoch 190/200\n",
            "6/6 [==============================] - 0s 15ms/step - loss: 0.0834 - accuracy: 0.9511\n",
            "Epoch 191/200\n",
            "6/6 [==============================] - 0s 15ms/step - loss: 0.0903 - accuracy: 0.9348\n",
            "Epoch 192/200\n",
            "6/6 [==============================] - 0s 17ms/step - loss: 0.0875 - accuracy: 0.9511\n",
            "Epoch 193/200\n",
            "6/6 [==============================] - 0s 16ms/step - loss: 0.0899 - accuracy: 0.9511\n",
            "Epoch 194/200\n",
            "6/6 [==============================] - 0s 16ms/step - loss: 0.0839 - accuracy: 0.9511\n",
            "Epoch 195/200\n",
            "6/6 [==============================] - 0s 15ms/step - loss: 0.0880 - accuracy: 0.9511\n",
            "Epoch 196/200\n",
            "6/6 [==============================] - 0s 17ms/step - loss: 0.0857 - accuracy: 0.9511\n",
            "Epoch 197/200\n",
            "6/6 [==============================] - 0s 15ms/step - loss: 0.0829 - accuracy: 0.9511\n",
            "Epoch 198/200\n",
            "6/6 [==============================] - 0s 16ms/step - loss: 0.0878 - accuracy: 0.9511\n",
            "Epoch 199/200\n",
            "6/6 [==============================] - 0s 15ms/step - loss: 0.0904 - accuracy: 0.9402\n",
            "Epoch 200/200\n",
            "6/6 [==============================] - 0s 14ms/step - loss: 0.0865 - accuracy: 0.9457\n"
          ]
        }
      ]
    },
    {
      "cell_type": "code",
      "source": [
        "import matplotlib.pyplot as plt\n",
        "plt.plot(history.history['accuracy'])"
      ],
      "metadata": {
        "colab": {
          "base_uri": "https://localhost:8080/",
          "height": 286
        },
        "id": "viBsgiCWZ0-q",
        "outputId": "710381cb-7b55-4f8c-9663-d89a3852db4b"
      },
      "execution_count": 48,
      "outputs": [
        {
          "output_type": "execute_result",
          "data": {
            "text/plain": [
              "[<matplotlib.lines.Line2D at 0x7fca002bce90>]"
            ]
          },
          "metadata": {},
          "execution_count": 48
        },
        {
          "output_type": "display_data",
          "data": {
            "text/plain": [
              "<Figure size 432x288 with 1 Axes>"
            ],
            "image/png": "[encoded data removed]"
          },
          "metadata": {
            "needs_background": "light"
          }
        }
      ]
    },
    {
      "cell_type": "code",
      "source": [
        "plt.plot(history.history['loss'])"
      ],
      "metadata": {
        "colab": {
          "base_uri": "https://localhost:8080/",
          "height": 282
        },
        "id": "S5sScV1tZ1A2",
        "outputId": "e744a2ef-f1d1-4055-e3a9-959d0b8755d3"
      },
      "execution_count": 49,
      "outputs": [
        {
          "output_type": "execute_result",
          "data": {
            "text/plain": [
              "[<matplotlib.lines.Line2D at 0x7fc9ffd63950>]"
            ]
          },
          "metadata": {},
          "execution_count": 49
        },
        {
          "output_type": "display_data",
          "data": {
            "text/plain": [
              "<Figure size 432x288 with 1 Axes>"
            ],
            "image/png": "[encoded data removed]"
          },
          "metadata": {
            "needs_background": "light"
          }
        }
      ]
    },
    {
      "cell_type": "code",
      "source": [
        "vocab_array = np.array(list(token.word_index.keys()))\n",
        "vocab_array"
      ],
      "metadata": {
        "colab": {
          "base_uri": "https://localhost:8080/"
        },
        "id": "aHR7DbheXfqx",
        "outputId": "bcfd421a-8d30-41ab-d946-6d199305104c"
      },
      "execution_count": 53,
      "outputs": [
        {
          "output_type": "execute_result",
          "data": {
            "text/plain": [
              "array(['pelangi', 'dicium', 'soleram', 'anak', 'manis', 'sayang', 'kalau',\n",
              "       'hijau', 'yang', 'janganlah', 'merahlah', 'pipinya', 'kawan',\n",
              "       'kuning', 'merah', 'biru', 'balonku', 'rupa', 'erat', 'lima',\n",
              "       'dan', 'empat', 'alangkah', 'indahmu', 'di', 'langit', 'pelukismu',\n",
              "       'agung', 'siapa', 'gerangan', 'ciptaan', 'tuhan', 'baru', 'jangan',\n",
              "       'ada', 'warnanya', 'kelabu', 'muda', 'meletus', 'balon', 'dor',\n",
              "       'hatiku', 'sangat', 'kacau', 'tinggal', 'kupegang', 'tuan',\n",
              "       'dapat', 'lama', 'dilupakan', 'jalan', 'ini', 'lagu', 'jaman',\n",
              "       'tempo', 'dulu', 'mungkin', 'sekarang', 'dikenang', 'kembali',\n",
              "       'satu', 'dua', 'tiga', 'enam', 'dalam', 'jabangan', 'ke', 'pasar',\n",
              "       'lupa', 'belilah', 'roti'], dtype='<U9')"
            ]
          },
          "metadata": {},
          "execution_count": 53
        }
      ]
    },
    {
      "cell_type": "code",
      "source": [
        "def prediksi(text, n_words):\n",
        "    for i in range(n_words):\n",
        "        text_tokenize = token.texts_to_sequences([text])\n",
        "        text_padded = tf.keras.preprocessing.sequence.pad_sequences(text_tokenize, maxlen=14)\n",
        "        prediksi = np.squeeze(np.argmax(model.predict(text_padded), axis=-1))\n",
        "        prediksi = str(vocab_array[prediksi - 1])\n",
        "        text += \" \" + prediksi\n",
        "    return text"
      ],
      "metadata": {
        "id": "K3SlcjHRa_u-"
      },
      "execution_count": 66,
      "outputs": []
    },
    {
      "cell_type": "code",
      "source": [
        "prediksi('kupegang', 2)"
      ],
      "metadata": {
        "colab": {
          "base_uri": "https://localhost:8080/",
          "height": 36
        },
        "id": "A8r4znpha_xk",
        "outputId": "54086e8a-88c5-440e-a87a-30c36db9bc95"
      },
      "execution_count": 70,
      "outputs": [
        {
          "output_type": "execute_result",
          "data": {
            "text/plain": [
              "'kupegang erat erat'"
            ],
            "application/vnd.google.colaboratory.intrinsic+json": {
              "type": "string"
            }
          },
          "metadata": {},
          "execution_count": 70
        }
      ]
    },
    {
      "cell_type": "code",
      "source": [
        "prediksi('pelukismu', 3)"
      ],
      "metadata": {
        "colab": {
          "base_uri": "https://localhost:8080/",
          "height": 36
        },
        "id": "_RrZxzQSa_0N",
        "outputId": "e013f070-c6ec-44e4-df92-532b4c09045b"
      },
      "execution_count": 75,
      "outputs": [
        {
          "output_type": "execute_result",
          "data": {
            "text/plain": [
              "'pelukismu agung siapa gerangan'"
            ],
            "application/vnd.google.colaboratory.intrinsic+json": {
              "type": "string"
            }
          },
          "metadata": {},
          "execution_count": 75
        }
      ]
    },
    {
      "cell_type": "code",
      "source": [
        "prediksi('soleram',5)"
      ],
      "metadata": {
        "colab": {
          "base_uri": "https://localhost:8080/",
          "height": 36
        },
        "id": "ZqxLrwZodu46",
        "outputId": "3d732215-2ac1-42e1-94e5-7d4af137d3d7"
      },
      "execution_count": 77,
      "outputs": [
        {
          "output_type": "execute_result",
          "data": {
            "text/plain": [
              "'soleram soleram soleram anak yang manis'"
            ],
            "application/vnd.google.colaboratory.intrinsic+json": {
              "type": "string"
            }
          },
          "metadata": {},
          "execution_count": 77
        }
      ]
    },
    {
      "cell_type": "code",
      "source": [
        "prediksi('kalau',5)"
      ],
      "metadata": {
        "colab": {
          "base_uri": "https://localhost:8080/",
          "height": 36
        },
        "id": "52rZpFv6a_3B",
        "outputId": "64acbdfa-700f-424a-bf5c-7d177a4661f0"
      },
      "execution_count": 78,
      "outputs": [
        {
          "output_type": "execute_result",
          "data": {
            "text/plain": [
              "'kalau dicium merahlah pipinya jalan ke'"
            ],
            "application/vnd.google.colaboratory.intrinsic+json": {
              "type": "string"
            }
          },
          "metadata": {},
          "execution_count": 78
        }
      ]
    }
  ]
}